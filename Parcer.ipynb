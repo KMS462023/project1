{
 "cells": [
  {
   "cell_type": "code",
   "execution_count": 4,
   "id": "753cdecb-9d05-483e-8dd8-3ce7744c69d9",
   "metadata": {},
   "outputs": [
    {
     "name": "stdout",
     "output_type": "stream",
     "text": [
      "Requirement already satisfied: PyPDF2 in c:\\users\\avane\\anaconda3\\lib\\site-packages (3.0.1)\n",
      "Requirement already satisfied: typing_extensions>=3.10.0.0 in c:\\users\\avane\\anaconda3\\lib\\site-packages (from PyPDF2) (4.1.1)\n"
     ]
    }
   ],
   "source": [
    "# !pip install PyPDF2\n",
    "# !pip install pdfplumber"
   ]
  },
  {
   "cell_type": "code",
   "execution_count": 2,
   "id": "f73c3b09-accc-4c9f-a0df-b9e09d6d30d0",
   "metadata": {},
   "outputs": [],
   "source": [
    "import PyPDF2\n",
    "import requests\n",
    "import pdfplumber"
   ]
  },
  {
   "cell_type": "code",
   "execution_count": null,
   "id": "382d8799-b50a-40c6-8610-b51662827779",
   "metadata": {},
   "outputs": [],
   "source": [
    "# Откройте PDF-файл\n",
    "with open('Class_2/Приказ_Министерства_здравоохранения_Российской_Федерации_от_7_ноября_2012_г._№_666н.pdf', 'rb') as pdf_file:\n",
    "    # Создайте объект PDF-документа\n",
    "    pdf_reader = PyPDF2.PdfReader(pdf_file)\n",
    "\n",
    "    # Получите количество страниц в документе\n",
    "    num_pages = len(pdf_reader.pages)\n",
    "\n",
    "    # Прочитайте содержимое каждой страницы\n",
    "    for page_number in range(num_pages):\n",
    "        page = pdf_reader.pages[page_number]\n",
    "        page_text = page.extract_text().split(\" \")\n",
    "        print(page_text)\n",
    "        print(\"\\n\\n\\n\\n\\n\\n\")"
   ]
  },
  {
   "cell_type": "code",
   "execution_count": 6,
   "id": "46a822b9-4188-472d-84e9-15530ae5a66c",
   "metadata": {},
   "outputs": [],
   "source": [
    "def get_mkb_codes(path):\n",
    "    with open(path, 'rb') as pdf_file:\n",
    "        # Создайте объект PDF-документа\n",
    "        pdf_reader = PyPDF2.PdfReader(pdf_file)\n",
    "\n",
    "        # Получите количество страниц в документе\n",
    "        num_pages = len(pdf_reader.pages)\n",
    "        page = pdf_reader.pages[1]\n",
    "        data_pages_1_2 = page.extract_text().replace(\"\\n\", \"\").split(\" \")\n",
    "        page = pdf_reader.pages[2]\n",
    "        page_text = page.extract_text().replace(\"\\n\", \"\").split(\" \")\n",
    "        data_pages_1_2.extend(page_text)\n",
    "        if num_pages > 3:\n",
    "            page = pdf_reader.pages[3]\n",
    "            page_text = page.extract_text().replace(\"\\n\", \"\").split(\" \")\n",
    "            data_pages_1_2.extend(page_text)\n",
    "            if num_pages > 4:\n",
    "                page = pdf_reader.pages[4]\n",
    "                page_text = page.extract_text().replace(\"\\n\", \"\").split(\" \")\n",
    "                data_pages_1_2.extend(page_text)\n",
    "                if num_pages > 5:\n",
    "                    page = pdf_reader.pages[5]\n",
    "                    page_text = page.extract_text().replace(\"\\n\", \"\").split(\" \")\n",
    "                    data_pages_1_2.extend(page_text)\n",
    "        if \"МКБ\" in data_pages_1_2:\n",
    "            start_point = data_pages_1_2.index(\"МКБ\")\n",
    "        elif \"МКБX*(1)\" in data_pages_1_2:\n",
    "            start_point = data_pages_1_2.index(\"МКБX*(1)\")\n",
    "        elif \"МКБX*\" in data_pages_1_2:\n",
    "            start_point = data_pages_1_2.index(\"МКБX*\")\n",
    "        elif \"МКБX\" in data_pages_1_2:\n",
    "            start_point = data_pages_1_2.index(\"МКБX\")\n",
    "        elif \"МКБХ*(1)\" in data_pages_1_2:\n",
    "            start_point = data_pages_1_2.index(\"МКБХ*(1)\")\n",
    "        elif \"МКБХ*\" in data_pages_1_2:\n",
    "            start_point = data_pages_1_2.index(\"МКБХ*\")\n",
    "        else:\n",
    "            start_point = data_pages_1_2.index(\"МКБХ\")\n",
    "        end_point = data_pages_1_2.index(\"услуги\", start_point)\n",
    "        data_pages_1_2 = data_pages_1_2[(start_point + 1) : end_point]\n",
    "\n",
    "        mkb_list = list()\n",
    "        for elem in data_pages_1_2:\n",
    "            elem = elem.strip()\n",
    "            if len(elem) > 1 and len(elem) < 8:\n",
    "                if elem[1].isnumeric() and not elem[0].isnumeric():\n",
    "                    mkb_list.append(elem)\n",
    "        return mkb_list"
   ]
  },
  {
   "cell_type": "code",
   "execution_count": 9,
   "id": "6b7a5f0f-4337-478d-8343-a91900e0a088",
   "metadata": {},
   "outputs": [],
   "source": [
    "def get_avaliable_of_tables(path = \"Приказ_Министерства_здравоохранения_Российской_Федерации_от_28_декабря_2012_г._№_1579н.pdf\"):\n",
    "    with open(path, 'rb') as pdf_file:\n",
    "        flag_1 = 0\n",
    "        flag_2 = 0\n",
    "        table_page_pos = [0,0]\n",
    "        # Создайте объект PDF-документа\n",
    "        pdf_reader = PyPDF2.PdfReader(pdf_file)\n",
    "\n",
    "        # Получите количество страниц в документе\n",
    "        num_pages = len(pdf_reader.pages)\n",
    "\n",
    "        # Прочитайте содержимое каждой страницы\n",
    "        for page_number in range(num_pages):\n",
    "            page = pdf_reader.pages[page_number]\n",
    "            page_text = page.extract_text()\n",
    "            if \"Медицинские услуги для лечения заболевания\" in page_text:\n",
    "                flag_1 = 1\n",
    "                table_page_pos[0] = page_number\n",
    "            if \"Перечень лекарственных препаратов для медицинского применения\" in page_text:\n",
    "                flag_2 = 1\n",
    "                table_page_pos[1] = page_number\n",
    "        if flag_1 == 0 and flag_2 == 0:\n",
    "            return [1, table_page_pos]\n",
    "        elif flag_1 == 1 and flag_2 == 0:\n",
    "            return [2, table_page_pos]\n",
    "        elif flag_1 == 0 and flag_2 == 1:\n",
    "            return [3, table_page_pos]\n",
    "        else:\n",
    "            return [4, table_page_pos]"
   ]
  },
  {
   "cell_type": "code",
   "execution_count": 12,
   "id": "a194a44c-9cf7-4459-9e44-dfe133f4e9ee",
   "metadata": {},
   "outputs": [],
   "source": [
    "def check_boundary_conditions(path = \"Приказ_Министерства_здравоохранения_Российской_Федерации_от_28_декабря_2012_г._№_1579н.pdf\", \n",
    "                              table_var_number = 2, page_pos = answer[1][1]):\n",
    "    with open(path, 'rb') as pdf_file:\n",
    "        flag = False\n",
    "        pdf_reader = PyPDF2.PdfReader(pdf_file)\n",
    "        if table_var_number == 1:\n",
    "            page = pdf_reader.pages[page_pos+1]\n",
    "            page_text = page.extract_text().split(\"\\n\")\n",
    "            if \"Прием\" in page_text[0]:\n",
    "                flag = True\n",
    "        elif table_var_number == 2:\n",
    "            page = pdf_reader.pages[page_pos+1]\n",
    "            page_text = page.extract_text().split(\"\\n\")\n",
    "            if \"Код\" in page_text[0] or \"Российской Федерации\" in page_text[0]:\n",
    "                flag = True\n",
    "    return flag"
   ]
  },
  {
   "cell_type": "code",
   "execution_count": 13,
   "id": "5530365b-2bdb-4a36-b1e5-010b11ed4be8",
   "metadata": {},
   "outputs": [
    {
     "data": {
      "text/plain": [
       "False"
      ]
     },
     "execution_count": 13,
     "metadata": {},
     "output_type": "execute_result"
    }
   ],
   "source": [
    "check_boundary_conditions(path = \"Приказ_Министерства_здравоохранения_Российской_Федерации_от_28_декабря_2012_г._№_1579н.pdf\", \n",
    "                              table_var_number = 2, page_pos = answer[1][1])"
   ]
  },
  {
   "cell_type": "code",
   "execution_count": 16,
   "id": "0309d66b-de96-42ee-b8df-c337008528d0",
   "metadata": {},
   "outputs": [],
   "source": [
    "# new_index = 0\n",
    "#         if len(table) != 0:\n",
    "#             if not list_data:\n",
    "#                 for col in table[0].extract():\n",
    "#                     for row in col:\n",
    "#                         if row:\n",
    "#                             if \"МКБ\" in row:\n",
    "#                                 new_index = 1\n",
    "#             if new_index==0 or (new_index==1 and len(table) > 1):\n",
    "#                 list_data += table[new_index].extract()"
   ]
  },
  {
   "cell_type": "code",
   "execution_count": 14,
   "id": "7dd30e3f-ca32-4a6c-8b67-2e2014dd20cd",
   "metadata": {},
   "outputs": [],
   "source": [
    "def get_data_case_1(path = \"Приказ_Министерства_здравоохранения_Российской_Федерации_от_2_февраля_2015 г._№ 31н.pdf\"):\n",
    "    pdf=pdfplumber.open(path)\n",
    "    pages = pdf.pages\n",
    "    page_count = len(pages)\n",
    "    list_data = list()\n",
    "    for i in range(page_count):\n",
    "        table=pdf.pages[i].find_tables()\n",
    "        if len(table) != 0:\n",
    "            list_data += table[0].extract()\n",
    "    return list_data"
   ]
  },
  {
   "cell_type": "code",
   "execution_count": 19,
   "id": "7f194d74-be6e-4543-b305-fb272db090b3",
   "metadata": {},
   "outputs": [],
   "source": [
    "def get_data_case_2(path = \"Приказ_Министерства_здравоохранения_Российской_Федерации_от_28_декабря_2012_г._№_1579н.pdf\", pages_number_1 = 2):\n",
    "    page_pos = pages_number_1\n",
    "    if check_boundary_conditions(path, table_var_number = 1, page_pos = pages_number_1):\n",
    "        pdf=pdfplumber.open(path)\n",
    "        pages = pdf.pages\n",
    "        page_count = len(pages)\n",
    "        list_data = list()\n",
    "        for i in range(page_pos+1):\n",
    "            if i != page_pos:\n",
    "                table=pdf.pages[i].find_tables()\n",
    "                if len(table) != 0:\n",
    "                    list_data += table[0].extract()\n",
    "            else:\n",
    "                table=pdf.pages[i].find_tables()\n",
    "                if len(table) > 1:\n",
    "                    list_data += table[0].extract()\n",
    "                elif len(table) == 1:\n",
    "                    pass            \n",
    "        return list_data\n",
    "    else:\n",
    "        pdf=pdfplumber.open(path)\n",
    "        pages = pdf.pages\n",
    "        page_count = len(pages)\n",
    "        list_data = list()\n",
    "        for i in range(page_pos+1):\n",
    "            table=pdf.pages[i].find_tables()\n",
    "            if len(table) != 0:\n",
    "                list_data += table[0].extract()         \n",
    "        return list_data"
   ]
  },
  {
   "cell_type": "code",
   "execution_count": 24,
   "id": "bb0a84a6-c4f0-4dc9-8f0a-192d04f7b6a1",
   "metadata": {},
   "outputs": [],
   "source": [
    "def get_data_case_3(path = \"Приказ_Министерства_здравоохранения_Российской_Федерации_от_28_декабря_2012_г._№_1579н.pdf\", pages_number_2 = 2):\n",
    "    page_pos = pages_number_2\n",
    "    if check_boundary_conditions(path, table_var_number = 2, page_pos = pages_number_2):\n",
    "        pdf=pdfplumber.open(path)\n",
    "        pages = pdf.pages\n",
    "        page_count = len(pages)\n",
    "        list_data = list()\n",
    "        for i in range(page_pos+1):\n",
    "            if i != page_pos:\n",
    "                table=pdf.pages[i].find_tables()\n",
    "                if len(table) != 0:\n",
    "                    list_data += table[0].extract()\n",
    "            else:\n",
    "                table=pdf.pages[i].find_tables()\n",
    "                if len(table) > 1:\n",
    "                    list_data += table[0].extract()\n",
    "                elif len(table) == 1:\n",
    "                    pass            \n",
    "        return list_data\n",
    "    else:\n",
    "        pdf=pdfplumber.open(path)\n",
    "        pages = pdf.pages\n",
    "        page_count = len(pages)\n",
    "        list_data = list()\n",
    "        for i in range(page_pos+1):\n",
    "            table=pdf.pages[i].find_tables()\n",
    "            if len(table) != 0:\n",
    "                list_data += table[0].extract()         \n",
    "        return list_data"
   ]
  },
  {
   "cell_type": "code",
   "execution_count": 25,
   "id": "d112dc5e-544f-4460-bea3-b258e58af7f1",
   "metadata": {},
   "outputs": [],
   "source": [
    "def get_data_case_4(path = \"Приказ_Министерства_здравоохранения_Российской_Федерации_от_28_декабря_2012_г._№_1579н.pdf\", pages_number_1 = 2, pages_number_2 = 2):\n",
    "    if pages_number_1 == pages_number_2:\n",
    "        page_pos = pages_number_1\n",
    "        pdf=pdfplumber.open(path)\n",
    "        pages = pdf.pages\n",
    "        page_count = len(pages)\n",
    "        list_data = list()\n",
    "        for i in range(page_pos+1):\n",
    "            if i != page_pos:\n",
    "                table=pdf.pages[i].find_tables()\n",
    "                if len(table) != 0:\n",
    "                    list_data += table[0].extract()\n",
    "            else:\n",
    "                table=pdf.pages[i].find_tables()\n",
    "                if len(table) > 2:\n",
    "                    list_data += table[0].extract()\n",
    "    else:\n",
    "        page_pos = pages_number_1\n",
    "        pdf=pdfplumber.open(path)\n",
    "        pages = pdf.pages\n",
    "        page_count = len(pages)\n",
    "        list_data = list()\n",
    "        for i in range(page_pos+1):\n",
    "            if i != page_pos:\n",
    "                table=pdf.pages[i].find_tables()\n",
    "                if len(table) != 0:\n",
    "                    list_data += table[0].extract()\n",
    "            else:\n",
    "                table=pdf.pages[i].find_tables()\n",
    "                if len(table) > 1:\n",
    "                    list_data += table[0].extract()\n",
    "    return list_data"
   ]
  },
  {
   "cell_type": "code",
   "execution_count": 27,
   "id": "db39200e-5f23-4300-a0da-ad4be350e5a5",
   "metadata": {},
   "outputs": [],
   "source": [
    "exceptions = []"
   ]
  },
  {
   "cell_type": "code",
   "execution_count": 28,
   "id": "70a34d01-0a6c-458c-b59a-e63329d1fa3d",
   "metadata": {},
   "outputs": [],
   "source": [
    "def get_list_from_pdf(path):\n",
    "    try:\n",
    "        flag, position_page = get_avaliable_of_tables(path)\n",
    "        if flag == 1:\n",
    "            data_case = get_data_case_1()\n",
    "        elif flag == 2:\n",
    "            data_case = get_data_case_2(path = path, pages_number_1 = position_page[0])\n",
    "        elif flag == 3:\n",
    "            data_case = get_data_case_3(path = path, pages_number_2 = position_page[1])\n",
    "        else:\n",
    "            data_case = get_data_case_4(path = path, pages_number_1 = position_page[0], pages_number_2 = position_page[1])\n",
    "        data_case_clear = []\n",
    "        for value in data_case:\n",
    "            if value[2] != None and value[2].replace(\",\", \"\").replace(\".\", \"\").isnumeric():\n",
    "                data_case_clear.append(value)\n",
    "        return data_case_clear\n",
    "    except:\n",
    "        exceptions.append(path)\n",
    "        return None"
   ]
  },
  {
   "cell_type": "code",
   "execution_count": null,
   "id": "9a8729dd-2835-4e63-a888-66dbcb13b94e",
   "metadata": {},
   "outputs": [],
   "source": [
    "get_list_from_pdf(path = \"Приказ_Министерства_здравоохранения_Российской_Федерации_от_9_ноября_2012_г._№_808н.pdf\")"
   ]
  },
  {
   "cell_type": "code",
   "execution_count": 30,
   "id": "d1304373-588d-432d-b910-be0dc7c84a2f",
   "metadata": {},
   "outputs": [],
   "source": [
    "import requests \n",
    "from bs4 import BeautifulSoup \n",
    " \n",
    "# URL of the HTML page \n",
    "url = \"https://minzdrav.gov.ru/ministry/61/22/stranitsa-979/stranitsa-983/2-standarty-spetsializirovannoy-meditsinskoy-pomoschi\" \n",
    " \n",
    "headers = requests.utils.default_headers()\n",
    "\n",
    "headers.update(\n",
    "    {\n",
    "        'User-Agent': 'My User Agent 1.0',\n",
    "    }\n",
    ")\n",
    "\n",
    "response = requests.get(url, headers=headers)\n",
    "html_content = response.text \n",
    " \n",
    "# Parse the HTML content using BeautifulSoup \n",
    "soup = BeautifulSoup(html_content, \"html.parser\") \n",
    " \n",
    "# Find all anchor tags with href attributes starting with \"sss.qq\" \n",
    "href_values = [] \n",
    "for anchor in soup.find_all(\"a\", href=True): \n",
    "    href = anchor[\"href\"] \n",
    "    if href.startswith(\"/ministry/61/22/stranitsa-979/stranitsa-983/2-standarty-spetsializirovannoy-meditsinskoy-pomoschi/klass\"): \n",
    "        href_values.append(href) \n",
    "\n",
    "\n",
    "# print(len(href_values))\n",
    "# for href in href_values: \n",
    "#     href = \"https://minzdrav.gov.ru/\" + href\n",
    "    \n",
    "href_list_class = [\"https://minzdrav.gov.ru/\" + x for x in href_values]"
   ]
  },
  {
   "cell_type": "code",
   "execution_count": 31,
   "id": "5b0248ab-d02c-4a77-922e-bd36ba68c3f5",
   "metadata": {},
   "outputs": [
    {
     "data": {
      "text/plain": [
       "['https://minzdrav.gov.ru//ministry/61/22/stranitsa-979/stranitsa-983/2-standarty-spetsializirovannoy-meditsinskoy-pomoschi/klass-i-nekotorye-infektsionnye-i-parazitarnye-bolezni-a00-b99',\n",
       " 'https://minzdrav.gov.ru//ministry/61/22/stranitsa-979/stranitsa-983/2-standarty-spetsializirovannoy-meditsinskoy-pomoschi/klass-ii-novoobrazovaniya-c00-d48',\n",
       " 'https://minzdrav.gov.ru//ministry/61/22/stranitsa-979/stranitsa-983/2-standarty-spetsializirovannoy-meditsinskoy-pomoschi/klass-iii-bolezni-krovi-krovetvornyh-organov-i-otdelnye-narusheniya-vovlekayuschie-immunnyy-mehanizm-d50-d89',\n",
       " 'https://minzdrav.gov.ru//ministry/61/22/stranitsa-979/stranitsa-983/2-standarty-spetsializirovannoy-meditsinskoy-pomoschi/klass-iv-bolezni-endokrinnoy-sistemy-rasstroystva-pitaniya-i-narusheniya-obmena-veschestv-e00-e90',\n",
       " 'https://minzdrav.gov.ru//ministry/61/22/stranitsa-979/stranitsa-983/2-standarty-spetsializirovannoy-meditsinskoy-pomoschi/klass-v-psihicheskie-rasstroystva-i-rasstroystva-povedeniya-f00-f99',\n",
       " 'https://minzdrav.gov.ru//ministry/61/22/stranitsa-979/stranitsa-983/2-standarty-spetsializirovannoy-meditsinskoy-pomoschi/klass-vi-bolezni-nervnoy-sistemy-g00-g99',\n",
       " 'https://minzdrav.gov.ru//ministry/61/22/stranitsa-979/stranitsa-983/2-standarty-spetsializirovannoy-meditsinskoy-pomoschi/klass-vii-bolezni-glaza-i-ego-pridatochnogo-apparata-h00-h59',\n",
       " 'https://minzdrav.gov.ru//ministry/61/22/stranitsa-979/stranitsa-983/2-standarty-spetsializirovannoy-meditsinskoy-pomoschi/klass-viii-bolezni-uha-i-sostsevidnogo-otrostka-h60-h95',\n",
       " 'https://minzdrav.gov.ru//ministry/61/22/stranitsa-979/stranitsa-983/2-standarty-spetsializirovannoy-meditsinskoy-pomoschi/klass-ix-bolezni-sistemy-krovoobrascheniya-i00-i99',\n",
       " 'https://minzdrav.gov.ru//ministry/61/22/stranitsa-979/stranitsa-983/2-standarty-spetsializirovannoy-meditsinskoy-pomoschi/klass-x-bolezni-organov-dyhaniya-j00-j99',\n",
       " 'https://minzdrav.gov.ru//ministry/61/22/stranitsa-979/stranitsa-983/2-standarty-spetsializirovannoy-meditsinskoy-pomoschi/klass-xi-bolezni-organov-pischevareniya-k00-k93',\n",
       " 'https://minzdrav.gov.ru//ministry/61/22/stranitsa-979/stranitsa-983/2-standarty-spetsializirovannoy-meditsinskoy-pomoschi/klass-xii-bolezni-kozhi-i-podkozhnoy-kletchatki-l00-l99',\n",
       " 'https://minzdrav.gov.ru//ministry/61/22/stranitsa-979/stranitsa-983/2-standarty-spetsializirovannoy-meditsinskoy-pomoschi/klass-xiii-bolezni-kostno-myshechnoy-sistemy-i-soedinitelnoy-tkani-m00-m99',\n",
       " 'https://minzdrav.gov.ru//ministry/61/22/stranitsa-979/stranitsa-983/2-standarty-spetsializirovannoy-meditsinskoy-pomoschi/klass-xiv-bolezni-mohepolovoi-sistemy-n00-n99',\n",
       " 'https://minzdrav.gov.ru//ministry/61/22/stranitsa-979/stranitsa-983/2-standarty-spetsializirovannoy-meditsinskoy-pomoschi/klass-xv-beremennost-rodi-i-poslerodovoi-period-o00-o99',\n",
       " 'https://minzdrav.gov.ru//ministry/61/22/stranitsa-979/stranitsa-983/2-standarty-spetsializirovannoy-meditsinskoy-pomoschi/klass-xvi-otdelnie-coctoyania-voznikaushie-v-perinatalnom-periode-p00-p96',\n",
       " 'https://minzdrav.gov.ru//ministry/61/22/stranitsa-979/stranitsa-983/2-standarty-spetsializirovannoy-meditsinskoy-pomoschi/klass-xvii-vrozhdennie-anomalia-poroki-razvitia-deformacii-i-xromosomnie-narushenia-q00-q99',\n",
       " 'https://minzdrav.gov.ru//ministry/61/22/stranitsa-979/stranitsa-983/2-standarty-spetsializirovannoy-meditsinskoy-pomoschi/klass-xviii-simptomi-priznaki-i-jnrkjnenia-ot-normi-viyavlennie-pri-klinicheskih-i-laboratornich-issledovaniyach-ne-klassificirovannie-v-drugih-rubrikah-r00-r99',\n",
       " 'https://minzdrav.gov.ru//ministry/61/22/stranitsa-979/stranitsa-983/2-standarty-spetsializirovannoy-meditsinskoy-pomoschi/klass-xix-travmi-otravlenia-i-nekotorie-drugie-posledstvia-vozdeistvia-vneshnix-prichin-s00-t98',\n",
       " 'https://minzdrav.gov.ru//ministry/61/22/stranitsa-979/stranitsa-983/2-standarty-spetsializirovannoy-meditsinskoy-pomoschi/klass-xx-vneshie-prichini-zabolevaemosti-i-smertnosti-v01-y98',\n",
       " 'https://minzdrav.gov.ru//ministry/61/22/stranitsa-979/stranitsa-983/2-standarty-spetsializirovannoy-meditsinskoy-pomoschi/klass-xxi-faktori-vliyaushie-na-sostoyanie-zdorovya-i-obrashenia-v-uchrezdenia-zdravoohranenia-z00-z99']"
      ]
     },
     "execution_count": 31,
     "metadata": {},
     "output_type": "execute_result"
    }
   ],
   "source": [
    "href_list_class"
   ]
  },
  {
   "cell_type": "code",
   "execution_count": 32,
   "id": "53a9603e-26bc-4c43-8edf-951b5365caae",
   "metadata": {},
   "outputs": [],
   "source": [
    "def get_href_values(href_elem):    \n",
    "\n",
    "    url = href_elem\n",
    "\n",
    "    headers = requests.utils.default_headers()\n",
    "\n",
    "    headers.update(\n",
    "        {\n",
    "            'User-Agent': 'My User Agent 1.0',\n",
    "        }\n",
    "    )\n",
    "\n",
    "    response = requests.get(url, headers=headers)\n",
    "    html_content = response.text \n",
    "\n",
    "    # Parse the HTML content using BeautifulSoup \n",
    "    soup = BeautifulSoup(html_content, \"html.parser\") \n",
    "\n",
    "    # Find all anchor tags with href attributes starting with \"sss.qq\" \n",
    "    href_values_1 = [] \n",
    "    for anchor in soup.find_all(\"a\", href=True): \n",
    "        href = anchor[\"href\"] \n",
    "        if href.startswith(\"http://minzdrav.gov.ru/documents\"): \n",
    "            href_values_1.append(href)\n",
    "    # print(href_values_1)\n",
    "    return href_values_1"
   ]
  },
  {
   "cell_type": "code",
   "execution_count": 33,
   "id": "a76696be-33cd-493a-a924-eb038549f3a1",
   "metadata": {},
   "outputs": [],
   "source": [
    "file_path_names_dict = dict()"
   ]
  },
  {
   "cell_type": "code",
   "execution_count": 34,
   "id": "0d3e751b-3ac1-47dd-a042-83630e574e22",
   "metadata": {},
   "outputs": [],
   "source": [
    "def get_download_link(href_values):\n",
    "    download_links = []\n",
    "    for link in href_values:\n",
    "        url = link\n",
    "\n",
    "        headers = requests.utils.default_headers()\n",
    "\n",
    "        headers.update(\n",
    "            {\n",
    "                'User-Agent': 'My User Agent 1.0',\n",
    "            }\n",
    "        )\n",
    "        response = requests.get(url, headers=headers)\n",
    "        html_content = response.text \n",
    "\n",
    "        # Parse the HTML content using BeautifulSoup \n",
    "        soup = BeautifulSoup(html_content, \"html.parser\") \n",
    "\n",
    "        # Find all anchor tags with a 'download' parameter\n",
    "        for anchor in soup.find_all(\"a\", download=True, href=True): \n",
    "            download_links.append([\"https:\" + anchor[\"href\"], anchor[\"download\"]]) \n",
    "            \n",
    "    return download_links\n",
    "        # # Print the found download values \n",
    "        # for download in download_links: \n",
    "        #     print(\"https:\" + download)"
   ]
  },
  {
   "cell_type": "code",
   "execution_count": 35,
   "id": "d7d73c3d-c677-4b7d-ac2d-0d8d474f3e03",
   "metadata": {},
   "outputs": [],
   "source": [
    "def parcer_all_data(href_list_class, class_number):\n",
    "    all_download_links_value = get_download_link(href_values = get_href_values(href_elem = href_list_class[class_number-1]))\n",
    "    for elem in all_download_links_value:\n",
    "        # print(elem)\n",
    "        with open(\"Class_\" + str(class_number) + \"\\\\\" + elem[1], \"wb\") as file:\n",
    "            url = elem[0]\n",
    "            headers = requests.utils.default_headers()\n",
    "            headers.update(\n",
    "                {\n",
    "                    'User-Agent': 'My User Agent 1.0',\n",
    "                }\n",
    "            )\n",
    "            response = requests.get(url, headers=headers)\n",
    "            file.write(response.content)\n",
    "            print(elem[1])\n",
    "    return all_download_links_value"
   ]
  },
  {
   "cell_type": "code",
   "execution_count": 57,
   "id": "1f764861-f5c8-4e1f-8b09-9faf67643e45",
   "metadata": {},
   "outputs": [],
   "source": [
    "print_value = parcer_all_data(href_list_class = href_list_class, class_number = 5)"
   ]
  },
  {
   "cell_type": "code",
   "execution_count": null,
   "id": "37cbf805-6f53-4ded-b71f-bd00b156f0e8",
   "metadata": {},
   "outputs": [],
   "source": [
    "print_value"
   ]
  },
  {
   "cell_type": "code",
   "execution_count": 52,
   "id": "03db0c23-ad88-4528-86e5-b929fc03d9e4",
   "metadata": {},
   "outputs": [],
   "source": [
    "numb = 5\n",
    "\n",
    "for elem in print_value:\n",
    "    if numb not in file_path_names_dict.keys():\n",
    "        file_path_names_dict[numb] = [elem[1]]\n",
    "    else:\n",
    "        file_path_names_dict[numb].append(elem[1])"
   ]
  },
  {
   "cell_type": "code",
   "execution_count": null,
   "id": "5a6b926a-c215-4a54-a494-8e1839138594",
   "metadata": {},
   "outputs": [],
   "source": [
    "file_path_names_dict"
   ]
  },
  {
   "cell_type": "code",
   "execution_count": 36,
   "id": "15947bc1-83b5-4969-809c-0dd7ead0e0d6",
   "metadata": {},
   "outputs": [],
   "source": [
    "import pickle\n",
    "\n",
    "# # Сохраняем список в файл\n",
    "# with open('pdf_names_prikaz_dict.pkl', 'wb') as f:\n",
    "#     pickle.dump(file_path_names_dict, f)\n",
    "\n",
    "\n",
    "# Загружаем список из файла\n",
    "with open('pdf_names_prikaz_dict.pkl', 'rb') as f:\n",
    "    file_path_names_dict = pickle.load(f)\n",
    "\n"
   ]
  },
  {
   "cell_type": "code",
   "execution_count": null,
   "id": "f6e45e38-1465-4dbd-ab97-09b05e471a9b",
   "metadata": {},
   "outputs": [],
   "source": [
    "file_path_names_dict"
   ]
  },
  {
   "cell_type": "code",
   "execution_count": null,
   "id": "26c48c9a-a2ed-4243-bfd7-537ea24a954b",
   "metadata": {},
   "outputs": [],
   "source": [
    "print_value[0]"
   ]
  },
  {
   "cell_type": "code",
   "execution_count": 314,
   "id": "081fe00a-d082-492b-80b2-4bd82d058354",
   "metadata": {},
   "outputs": [],
   "source": [
    "total_dict = dict()"
   ]
  },
  {
   "cell_type": "code",
   "execution_count": null,
   "id": "6d004311-ea59-435a-8401-c0d632ecf93e",
   "metadata": {},
   "outputs": [],
   "source": [
    "cnt_123 = 1\n",
    "\n",
    "for i in range(1,22):\n",
    "    for cnt_1 in file_path_names_dict[i]:\n",
    "        print(cnt_123, i, cnt_1)\n",
    "        list_of_mkb__1 = get_mkb_codes(\"Class_\" + str(i) + \"\\\\\" + cnt_1)\n",
    "        mkb_data_list = get_list_from_pdf(\"Class_\" + str(i) + \"\\\\\" + cnt_1)\n",
    "        if mkb_data_list:\n",
    "            for smth_mkb in list_of_mkb__1:\n",
    "                total_dict[smth_mkb] = mkb_data_list\n",
    "        cnt_123 += 1"
   ]
  },
  {
   "cell_type": "code",
   "execution_count": null,
   "id": "455e1d88-9007-4e80-966e-d077f02f3dc5",
   "metadata": {},
   "outputs": [],
   "source": [
    "total_dict"
   ]
  },
  {
   "cell_type": "code",
   "execution_count": 316,
   "id": "df6adb7a-9d2f-4429-b9a0-8f6edb5c9586",
   "metadata": {},
   "outputs": [
    {
     "data": {
      "text/plain": [
       "['Class_1\\\\Приказ_Министерства_здравоохранения_Российской_Федерации_от_9_ноября_2012_г._№_803н.pdf',\n",
       " 'Class_1\\\\Приказ_Министерства_здравоохранения_Российской_Федерации_от_9_ноября_2012_г._№_803н.pdf',\n",
       " 'Class_1\\\\Приказ_Министерства_здравоохранения_Российской_Федерации_от_28_декабря_2012_г._№_1582н.pdf',\n",
       " 'Class_1\\\\Приказ_Министерства_здравоохранения_Российской_Федерации_от_9_ноября_2012_г._№_803н.pdf',\n",
       " 'Class_5\\\\Приказ_Министерства_здравоохранения_Российской_Федерации_от_4_сентября_2012_г._№_127н.pdf',\n",
       " 'Class_5\\\\Приказ_Министерства_здравоохранения_Российской_Федерации_от_4_сентября_2012_г._№_135н.pdf',\n",
       " 'Class_10\\\\Приказ_Министерства_здравоохранения_Российской_Федерации_от_9_ноября_2012_г.№_724н.pdf']"
      ]
     },
     "execution_count": 316,
     "metadata": {},
     "output_type": "execute_result"
    }
   ],
   "source": [
    "exceptions"
   ]
  },
  {
   "cell_type": "code",
   "execution_count": 39,
   "id": "6775ff65-cb04-41bd-a89e-4b895bcd72a1",
   "metadata": {},
   "outputs": [],
   "source": [
    "import pickle\n",
    "\n",
    "# Загружаем список из файла\n",
    "with open('pdf_data_prikaz_dict.pkl', 'rb') as f:\n",
    "    total_dict = pickle.load(f)"
   ]
  },
  {
   "cell_type": "code",
   "execution_count": 40,
   "id": "f86d1b4e-a212-40ac-bfee-33296181a5a3",
   "metadata": {},
   "outputs": [
    {
     "data": {
      "text/plain": [
       "1104"
      ]
     },
     "execution_count": 40,
     "metadata": {},
     "output_type": "execute_result"
    }
   ],
   "source": [
    "len(total_dict)"
   ]
  },
  {
   "cell_type": "code",
   "execution_count": null,
   "id": "bec2fc47-c9ee-4499-98e9-42045fda0ff4",
   "metadata": {},
   "outputs": [],
   "source": [
    "counter = 0\n",
    "all_docs_list = list()\n",
    "for key in file_path_names_dict:\n",
    "    print(key)\n",
    "    intersection = list(set(all_docs_list).intersection(file_path_names_dict[key]))\n",
    "    if len(intersection) != 0:\n",
    "        print(key, intersection)\n",
    "    all_docs_list += list(set(file_path_names_dict[key]))\n",
    "    counter += len(set(file_path_names_dict[key]))\n",
    "print(counter)"
   ]
  },
  {
   "cell_type": "code",
   "execution_count": 82,
   "id": "006251e1-3bdc-4358-bad8-6af50c9aa97f",
   "metadata": {},
   "outputs": [
    {
     "data": {
      "text/plain": [
       "430"
      ]
     },
     "execution_count": 82,
     "metadata": {},
     "output_type": "execute_result"
    }
   ],
   "source": [
    "len(list(set(all_docs_list)))"
   ]
  },
  {
   "cell_type": "code",
   "execution_count": 88,
   "id": "5398fed0-ca6a-4926-b5cd-9102b195e220",
   "metadata": {},
   "outputs": [],
   "source": [
    "temp_dict = {}"
   ]
  },
  {
   "cell_type": "code",
   "execution_count": 84,
   "id": "dfb154b2-3d26-439d-b52b-1eebe9094243",
   "metadata": {},
   "outputs": [],
   "source": [
    "print_value = parcer_all_data(href_list_class = href_list_class, class_number = 5)"
   ]
  },
  {
   "cell_type": "code",
   "execution_count": null,
   "id": "56c61a60-1ff3-4ae8-a31c-1d3ff5f40df5",
   "metadata": {},
   "outputs": [],
   "source": [
    "cnt_123 = 1\n",
    "\n",
    "for i in range(1,22):\n",
    "    print_value = parcer_all_data(href_list_class = href_list_class, class_number = i)\n",
    "    print(cnt_123)\n",
    "    for cnt_1 in print_value:\n",
    "        # print(cnt_123, i, cnt_1)\n",
    "        list_of_mkb__1 = get_mkb_codes(\"Class_\" + str(i) + \"\\\\\" + cnt_1[1])\n",
    "        # mkb_data_list = get_list_from_pdf(\"Class_\" + str(i) + \"\\\\\" + cnt_1)\n",
    "        if len(list_of_mkb__1) != 0:\n",
    "            for smth_mkb in list_of_mkb__1:\n",
    "                if smth_mkb in temp_dict:\n",
    "                    temp_dict[smth_mkb].append(cnt_1)\n",
    "                else:\n",
    "                    temp_dict[smth_mkb] = [cnt_1]\n",
    "        else:\n",
    "            print(f\"ERROR!!!!!! cnt_1\")\n",
    "        cnt_123 += 1"
   ]
  },
  {
   "cell_type": "code",
   "execution_count": 46,
   "id": "e0e2b0ba-aee4-4c1f-a684-3c0638a0de1e",
   "metadata": {},
   "outputs": [
    {
     "ename": "NameError",
     "evalue": "name 'temp_dict' is not defined",
     "output_type": "error",
     "traceback": [
      "\u001b[1;31m---------------------------------------------------------------------------\u001b[0m",
      "\u001b[1;31mNameError\u001b[0m                                 Traceback (most recent call last)",
      "Input \u001b[1;32mIn [46]\u001b[0m, in \u001b[0;36m<cell line: 1>\u001b[1;34m()\u001b[0m\n\u001b[1;32m----> 1\u001b[0m \u001b[43mtemp_dict\u001b[49m[\u001b[38;5;124m\"\u001b[39m\u001b[38;5;124mI10\u001b[39m\u001b[38;5;124m\"\u001b[39m]\n",
      "\u001b[1;31mNameError\u001b[0m: name 'temp_dict' is not defined"
     ]
    }
   ],
   "source": [
    "temp_dict[\"I10\"]"
   ]
  },
  {
   "cell_type": "code",
   "execution_count": 95,
   "id": "e9d44c4c-fc20-4b7b-8a04-a5571bb14d15",
   "metadata": {},
   "outputs": [],
   "source": [
    "# # Сохраняем список в файл\n",
    "# with open('pdf_prikaz_mkb_codes_href_dict.pkl', 'wb') as f:\n",
    "#     pickle.dump(temp_dict, f)"
   ]
  },
  {
   "cell_type": "code",
   "execution_count": 1,
   "id": "217c551e-228b-4323-84e8-43bdc82affc7",
   "metadata": {},
   "outputs": [
    {
     "ename": "NameError",
     "evalue": "name 'temp_dict' is not defined",
     "output_type": "error",
     "traceback": [
      "\u001b[1;31m---------------------------------------------------------------------------\u001b[0m",
      "\u001b[1;31mNameError\u001b[0m                                 Traceback (most recent call last)",
      "Input \u001b[1;32mIn [1]\u001b[0m, in \u001b[0;36m<cell line: 1>\u001b[1;34m()\u001b[0m\n\u001b[1;32m----> 1\u001b[0m \u001b[43mtemp_dict\u001b[49m\n",
      "\u001b[1;31mNameError\u001b[0m: name 'temp_dict' is not defined"
     ]
    }
   ],
   "source": [
    "temp_dict"
   ]
  },
  {
   "cell_type": "code",
   "execution_count": null,
   "id": "3e5d6de9-0e8b-4032-9616-3ea25c5794a1",
   "metadata": {},
   "outputs": [],
   "source": []
  }
 ],
 "metadata": {
  "kernelspec": {
   "display_name": "Python 3 (ipykernel)",
   "language": "python",
   "name": "python3"
  },
  "language_info": {
   "codemirror_mode": {
    "name": "ipython",
    "version": 3
   },
   "file_extension": ".py",
   "mimetype": "text/x-python",
   "name": "python",
   "nbconvert_exporter": "python",
   "pygments_lexer": "ipython3",
   "version": "3.9.12"
  }
 },
 "nbformat": 4,
 "nbformat_minor": 5
}
